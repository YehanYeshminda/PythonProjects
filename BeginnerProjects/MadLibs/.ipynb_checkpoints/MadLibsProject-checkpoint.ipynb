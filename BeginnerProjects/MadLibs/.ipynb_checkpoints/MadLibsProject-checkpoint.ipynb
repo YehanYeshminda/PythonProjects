{
 "cells": [
  {
   "cell_type": "markdown",
   "id": "aa0a9b80",
   "metadata": {},
   "source": [
    "### We are going to be going over on making an madlib which means an game which provides us with random text over time"
   ]
  },
  {
   "cell_type": "code",
   "execution_count": 10,
   "id": "66cb1c4e",
   "metadata": {
    "scrolled": true
   },
   "outputs": [
    {
     "name": "stdout",
     "output_type": "stream",
     "text": [
      "Name :Yehan\n",
      "DOB :2003\n"
     ]
    }
   ],
   "source": [
    "name = input(\"Name :\")\n",
    "dob = input(\"DOB :\")\n",
    "random_text = []"
   ]
  },
  {
   "cell_type": "markdown",
   "id": "086cedeb",
   "metadata": {},
   "source": [
    "### We use the below code in order to push 10 random words into the array and then we will use that array in order to display some text"
   ]
  },
  {
   "cell_type": "code",
   "execution_count": 11,
   "id": "b4053865",
   "metadata": {},
   "outputs": [
    {
     "name": "stdout",
     "output_type": "stream",
     "text": [
      "Enter 10 Random Thaingsasdas\n",
      "Enter 10 Random Thaingsdasda\n",
      "Enter 10 Random Thaingssdasd\n",
      "Enter 10 Random Thaingssdasd\n",
      "Enter 10 Random Thaingsasdas\n",
      "Enter 10 Random Thaingsdasd\n",
      "Enter 10 Random Thaingsasd\n",
      "Enter 10 Random Thaingsasda\n",
      "Enter 10 Random Thaingssdasd\n",
      "Enter 10 Random Thaingsasd\n",
      "Enter 10 Random Thaingsasd\n"
     ]
    }
   ],
   "source": [
    "for i in range(0,11):\n",
    "    text = input(\"Enter 10 Random Thaings\")\n",
    "    random_text.append(text)"
   ]
  },
  {
   "cell_type": "markdown",
   "id": "10df6816",
   "metadata": {},
   "source": [
    "  ### The below code is used to display the mad libs to the user"
   ]
  },
  {
   "cell_type": "code",
   "execution_count": 19,
   "id": "1c25f4da",
   "metadata": {},
   "outputs": [],
   "source": [
    "mad_libs = f\"The Name is called {name} and the age is {2022 - int(dob)} and the random things are that , {' , '.join(random_text)}\""
   ]
  },
  {
   "cell_type": "code",
   "execution_count": 20,
   "id": "2ed92969",
   "metadata": {},
   "outputs": [
    {
     "name": "stdout",
     "output_type": "stream",
     "text": [
      "The Name is called Yehan and the age is 19 and the random things are that , asdas , dasda , sdasd , sdasd , asdas , dasd , asd , asda , sdasd , asd , asd\n"
     ]
    }
   ],
   "source": [
    "print(mad_libs)"
   ]
  },
  {
   "cell_type": "code",
   "execution_count": null,
   "id": "308cfd8f",
   "metadata": {},
   "outputs": [],
   "source": []
  }
 ],
 "metadata": {
  "kernelspec": {
   "display_name": "Python 3 (ipykernel)",
   "language": "python",
   "name": "python3"
  },
  "language_info": {
   "codemirror_mode": {
    "name": "ipython",
    "version": 3
   },
   "file_extension": ".py",
   "mimetype": "text/x-python",
   "name": "python",
   "nbconvert_exporter": "python",
   "pygments_lexer": "ipython3",
   "version": "3.9.12"
  }
 },
 "nbformat": 4,
 "nbformat_minor": 5
}
